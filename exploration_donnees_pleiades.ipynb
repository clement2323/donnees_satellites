{
 "cells": [
  {
   "cell_type": "markdown",
   "id": "f4cb5a9b-667b-4066-9b2c-af8b8c8ed943",
   "metadata": {},
   "source": [
    "Installation des packages"
   ]
  },
  {
   "cell_type": "code",
   "execution_count": null,
   "id": "516c7214-340b-4e8d-947b-28191752c435",
   "metadata": {},
   "outputs": [],
   "source": [
    "# 2 min\n",
    "#!pip install -q -q -q tifffile\n",
    "#!pip install -q -q -q tqdm # progresbar\n",
    "#!pip3 install -q -q -q torch==1.9.0+cu102 torchvision==0.10.0+cu102 torchaudio===0.9.0 -f https://download.pytorch.org/whl/torch_stable.html\n",
    "# https://pytorch.org/get-started/locally/#mac-anaconda\n",
    "# Bien surveiller les versions de torch et prendre la nigthly si besoin ! là j'ai pris la dernière :)\n",
    "#!pip3 install --pre torch torchvision torchaudio --extra-index-url https://download.pytorch.org/whl/nightly/cu116 -q -q -q\n",
    "!pip install py7zr  -q -q -q \n",
    "!pip3 install opencv-python -q -q -q \n",
    "#!pip install imageio  -q -q -q "
   ]
  },
  {
   "cell_type": "markdown",
   "id": "e32a8404-1b34-49bb-837d-6ef461e5b586",
   "metadata": {},
   "source": [
    "On installe les dépendances nécessaires à Open cv cf https://stackoverflow.com/questions/55313610/importerror-libgl-so-1-cannot-open-shared-object-file-no-such-file-or-directo"
   ]
  },
  {
   "cell_type": "markdown",
   "id": "757c1bbd-e025-4590-8fb1-30ab7236ae67",
   "metadata": {},
   "source": [
    "! sudo apt-get update"
   ]
  },
  {
   "cell_type": "code",
   "execution_count": null,
   "id": "6e34ad87-c740-43ba-bc9e-1948d76bb30d",
   "metadata": {},
   "outputs": [],
   "source": [
    "! sudo apt-get install ffmpeg libsm6 libxext6  -y "
   ]
  },
  {
   "cell_type": "code",
   "execution_count": null,
   "id": "215112fa-9fdb-4a55-be30-5eb2f65a3727",
   "metadata": {},
   "outputs": [],
   "source": [
    "import s3fs\n",
    "from pathlib import Path\n",
    "import py7zr\n",
    "import numpy as np\n",
    "import cv2 as cv2\n",
    "#import imageio.v2 as imageio \n",
    "#from torch.utils.data import DataLoader,  random_split\n",
    "#import torch"
   ]
  },
  {
   "cell_type": "markdown",
   "id": "6a930a83-1c65-40a5-8817-f32078b8e196",
   "metadata": {},
   "source": [
    "Récupération des données pleiades"
   ]
  },
  {
   "cell_type": "code",
   "execution_count": null,
   "id": "2a6b2e2d-a52a-404e-8c40-89bbc1a68d09",
   "metadata": {},
   "outputs": [],
   "source": [
    "fs = s3fs.S3FileSystem(client_kwargs={'endpoint_url': 'https://minio.lab.sspcloud.fr'})\n",
    "fs.get('projet-slums-detection/Donnees/Cayenne_200722.7z', 'Cayenne.7z')"
   ]
  },
  {
   "cell_type": "code",
   "execution_count": null,
   "id": "db61ecba-c6fc-4cfe-b609-57e65dfb6c95",
   "metadata": {},
   "outputs": [],
   "source": [
    "with py7zr.SevenZipFile('Cayenne.7z', mode='r') as z:\n",
    "    z.extractall()"
   ]
  },
  {
   "cell_type": "code",
   "execution_count": null,
   "id": "d1628927-f123-4b25-af5c-2e6624a823f2",
   "metadata": {},
   "outputs": [],
   "source": [
    "import os\n",
    "import matplotlib.image as mpimg\n",
    "import matplotlib.pyplot as plt\n",
    "\n",
    "# os.getcwd()\n",
    "img = mpimg.imread('Cayenne_200722/16bits/ORT_2022072050325085_U22N/ORT_2022072050325085_0348_0534_U22N_16Bits.jp2')"
   ]
  },
  {
   "cell_type": "markdown",
   "id": "ac0ea254-7dfc-4bc5-b72f-17956a188a9b",
   "metadata": {},
   "source": [
    "On voit quelque chose en représentant les channels séparément"
   ]
  },
  {
   "cell_type": "code",
   "execution_count": null,
   "id": "e4af8a04-022e-4502-b051-aa74fbfe7319",
   "metadata": {},
   "outputs": [],
   "source": [
    "plt.imshow(img[:,:,3])\n",
    "plt.show()\n",
    "img.shape "
   ]
  },
  {
   "cell_type": "code",
   "execution_count": null,
   "id": "b2704623-1e98-41f4-8d86-11e59e28f3c7",
   "metadata": {},
   "outputs": [],
   "source": [
    "img.copy().shape"
   ]
  },
  {
   "cell_type": "markdown",
   "id": "311f7900-0ea6-4624-b2ea-f4921eefd10e",
   "metadata": {},
   "source": [
    "Normalisation OpenCv"
   ]
  },
  {
   "cell_type": "code",
   "execution_count": null,
   "id": "174d8748-65d7-462d-8fce-812aeb93a050",
   "metadata": {},
   "outputs": [],
   "source": [
    "tonemap = cv2.createTonemap()\n",
    "tonemapped_img = tonemap.process(img.copy()[:,:,1:])\n",
    "img_8bit = numpy.clip(tonemapped_img*255, 0, 255).astype('uint8')"
   ]
  },
  {
   "cell_type": "markdown",
   "id": "73b55506-10c4-45d3-9cce-a9826a5aeb0e",
   "metadata": {},
   "source": [
    "A suivre.."
   ]
  }
 ],
 "metadata": {
  "kernelspec": {
   "display_name": "Python 3 (ipykernel)",
   "language": "python",
   "name": "python3"
  },
  "language_info": {
   "codemirror_mode": {
    "name": "ipython",
    "version": 3
   },
   "file_extension": ".py",
   "mimetype": "text/x-python",
   "name": "python",
   "nbconvert_exporter": "python",
   "pygments_lexer": "ipython3",
   "version": "3.10.4"
  }
 },
 "nbformat": 4,
 "nbformat_minor": 5
}
